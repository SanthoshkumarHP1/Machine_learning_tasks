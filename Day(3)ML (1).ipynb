{
 "cells": [
  {
   "cell_type": "code",
   "execution_count": 63,
   "id": "2d32622e-088f-4076-8147-4c6fd2ac3ad9",
   "metadata": {},
   "outputs": [],
   "source": [
    "import warnings\n",
    "import warnings\n",
    "warnings.filterwarnings('ignore')"
   ]
  },
  {
   "cell_type": "code",
   "execution_count": 64,
   "id": "011e32c6-2d81-4e6b-b21a-6e881cbaeae1",
   "metadata": {},
   "outputs": [],
   "source": [
    "import pandas as pd\n",
    "import numpy as np\n",
    "import matplotlib.pyplot as plt\n",
    "import seaborn as sns"
   ]
  },
  {
   "cell_type": "code",
   "execution_count": 65,
   "id": "4ea09cc8-55bb-49fc-ae5e-da91fc373412",
   "metadata": {},
   "outputs": [
    {
     "data": {
      "text/html": [
       "<div>\n",
       "<style scoped>\n",
       "    .dataframe tbody tr th:only-of-type {\n",
       "        vertical-align: middle;\n",
       "    }\n",
       "\n",
       "    .dataframe tbody tr th {\n",
       "        vertical-align: top;\n",
       "    }\n",
       "\n",
       "    .dataframe thead th {\n",
       "        text-align: right;\n",
       "    }\n",
       "</style>\n",
       "<table border=\"1\" class=\"dataframe\">\n",
       "  <thead>\n",
       "    <tr style=\"text-align: right;\">\n",
       "      <th></th>\n",
       "      <th>Name</th>\n",
       "      <th>Phone screen time</th>\n",
       "      <th>stdy hr</th>\n",
       "      <th>Ref Paper</th>\n",
       "      <th>Result</th>\n",
       "    </tr>\n",
       "  </thead>\n",
       "  <tbody>\n",
       "    <tr>\n",
       "      <th>0</th>\n",
       "      <td>a</td>\n",
       "      <td>7.0</td>\n",
       "      <td>4</td>\n",
       "      <td>6</td>\n",
       "      <td>7.5</td>\n",
       "    </tr>\n",
       "    <tr>\n",
       "      <th>1</th>\n",
       "      <td>b</td>\n",
       "      <td>4.0</td>\n",
       "      <td>6</td>\n",
       "      <td>8</td>\n",
       "      <td>8.0</td>\n",
       "    </tr>\n",
       "    <tr>\n",
       "      <th>2</th>\n",
       "      <td>c</td>\n",
       "      <td>2.0</td>\n",
       "      <td>8</td>\n",
       "      <td>10</td>\n",
       "      <td>9.0</td>\n",
       "    </tr>\n",
       "    <tr>\n",
       "      <th>3</th>\n",
       "      <td>d</td>\n",
       "      <td>5.0</td>\n",
       "      <td>7</td>\n",
       "      <td>4</td>\n",
       "      <td>7.2</td>\n",
       "    </tr>\n",
       "    <tr>\n",
       "      <th>4</th>\n",
       "      <td>e</td>\n",
       "      <td>6.4</td>\n",
       "      <td>5</td>\n",
       "      <td>2</td>\n",
       "      <td>6.0</td>\n",
       "    </tr>\n",
       "  </tbody>\n",
       "</table>\n",
       "</div>"
      ],
      "text/plain": [
       "  Name  Phone screen time  stdy hr  Ref Paper  Result\n",
       "0    a                7.0        4          6     7.5\n",
       "1    b                4.0        6          8     8.0\n",
       "2    c                2.0        8         10     9.0\n",
       "3    d                5.0        7          4     7.2\n",
       "4    e                6.4        5          2     6.0"
      ]
     },
     "execution_count": 65,
     "metadata": {},
     "output_type": "execute_result"
    }
   ],
   "source": [
    "df = pd.read_csv(\"CGPA.csv\")\n",
    "df.head()"
   ]
  },
  {
   "cell_type": "code",
   "execution_count": 66,
   "id": "c20fffa1-941f-48df-849f-7ea1cf8e7e92",
   "metadata": {},
   "outputs": [
    {
     "data": {
      "text/html": [
       "<div>\n",
       "<style scoped>\n",
       "    .dataframe tbody tr th:only-of-type {\n",
       "        vertical-align: middle;\n",
       "    }\n",
       "\n",
       "    .dataframe tbody tr th {\n",
       "        vertical-align: top;\n",
       "    }\n",
       "\n",
       "    .dataframe thead th {\n",
       "        text-align: right;\n",
       "    }\n",
       "</style>\n",
       "<table border=\"1\" class=\"dataframe\">\n",
       "  <thead>\n",
       "    <tr style=\"text-align: right;\">\n",
       "      <th></th>\n",
       "      <th>Phone screen time</th>\n",
       "      <th>stdy hr</th>\n",
       "      <th>Ref Paper</th>\n",
       "      <th>Result</th>\n",
       "    </tr>\n",
       "  </thead>\n",
       "  <tbody>\n",
       "    <tr>\n",
       "      <th>count</th>\n",
       "      <td>14.000000</td>\n",
       "      <td>14.000000</td>\n",
       "      <td>14.000000</td>\n",
       "      <td>14.000000</td>\n",
       "    </tr>\n",
       "    <tr>\n",
       "      <th>mean</th>\n",
       "      <td>6.092857</td>\n",
       "      <td>4.571429</td>\n",
       "      <td>3.214286</td>\n",
       "      <td>5.750000</td>\n",
       "    </tr>\n",
       "    <tr>\n",
       "      <th>std</th>\n",
       "      <td>3.070321</td>\n",
       "      <td>2.471819</td>\n",
       "      <td>2.939874</td>\n",
       "      <td>2.224946</td>\n",
       "    </tr>\n",
       "    <tr>\n",
       "      <th>min</th>\n",
       "      <td>1.500000</td>\n",
       "      <td>0.000000</td>\n",
       "      <td>0.000000</td>\n",
       "      <td>0.000000</td>\n",
       "    </tr>\n",
       "    <tr>\n",
       "      <th>25%</th>\n",
       "      <td>3.625000</td>\n",
       "      <td>3.250000</td>\n",
       "      <td>1.000000</td>\n",
       "      <td>5.025000</td>\n",
       "    </tr>\n",
       "    <tr>\n",
       "      <th>50%</th>\n",
       "      <td>6.200000</td>\n",
       "      <td>4.500000</td>\n",
       "      <td>2.000000</td>\n",
       "      <td>6.000000</td>\n",
       "    </tr>\n",
       "    <tr>\n",
       "      <th>75%</th>\n",
       "      <td>7.875000</td>\n",
       "      <td>6.000000</td>\n",
       "      <td>4.000000</td>\n",
       "      <td>7.175000</td>\n",
       "    </tr>\n",
       "    <tr>\n",
       "      <th>max</th>\n",
       "      <td>12.000000</td>\n",
       "      <td>8.000000</td>\n",
       "      <td>10.000000</td>\n",
       "      <td>9.000000</td>\n",
       "    </tr>\n",
       "  </tbody>\n",
       "</table>\n",
       "</div>"
      ],
      "text/plain": [
       "       Phone screen time    stdy hr  Ref Paper     Result\n",
       "count          14.000000  14.000000  14.000000  14.000000\n",
       "mean            6.092857   4.571429   3.214286   5.750000\n",
       "std             3.070321   2.471819   2.939874   2.224946\n",
       "min             1.500000   0.000000   0.000000   0.000000\n",
       "25%             3.625000   3.250000   1.000000   5.025000\n",
       "50%             6.200000   4.500000   2.000000   6.000000\n",
       "75%             7.875000   6.000000   4.000000   7.175000\n",
       "max            12.000000   8.000000  10.000000   9.000000"
      ]
     },
     "execution_count": 66,
     "metadata": {},
     "output_type": "execute_result"
    }
   ],
   "source": [
    "df.describe()"
   ]
  },
  {
   "cell_type": "code",
   "execution_count": 67,
   "id": "480805ad-6d2e-4a78-a13b-3ef3563b03cc",
   "metadata": {},
   "outputs": [
    {
     "name": "stdout",
     "output_type": "stream",
     "text": [
      "<class 'pandas.core.frame.DataFrame'>\n",
      "RangeIndex: 14 entries, 0 to 13\n",
      "Data columns (total 5 columns):\n",
      " #   Column             Non-Null Count  Dtype  \n",
      "---  ------             --------------  -----  \n",
      " 0   Name               14 non-null     object \n",
      " 1   Phone screen time  14 non-null     float64\n",
      " 2   stdy hr            14 non-null     int64  \n",
      " 3   Ref Paper          14 non-null     int64  \n",
      " 4   Result             14 non-null     float64\n",
      "dtypes: float64(2), int64(2), object(1)\n",
      "memory usage: 688.0+ bytes\n"
     ]
    }
   ],
   "source": [
    "df.info()"
   ]
  },
  {
   "cell_type": "code",
   "execution_count": 68,
   "id": "3e7a985e-cd99-4377-98f0-447a542bc376",
   "metadata": {},
   "outputs": [
    {
     "data": {
      "text/plain": [
       "Name                 0\n",
       "Phone screen time    0\n",
       "stdy hr              0\n",
       "Ref Paper            0\n",
       "Result               0\n",
       "dtype: int64"
      ]
     },
     "execution_count": 68,
     "metadata": {},
     "output_type": "execute_result"
    }
   ],
   "source": [
    "df.isnull().sum()"
   ]
  },
  {
   "cell_type": "code",
   "execution_count": 69,
   "id": "ccfb100e-ecb2-4a58-9a1c-2ea7112a254c",
   "metadata": {},
   "outputs": [
    {
     "data": {
      "text/plain": [
       "<seaborn.axisgrid.PairGrid at 0xa98841bd90>"
      ]
     },
     "execution_count": 69,
     "metadata": {},
     "output_type": "execute_result"
    }
   ],
   "source": [
    "sns.pairplot(df)"
   ]
  },
  {
   "cell_type": "code",
   "execution_count": 70,
   "id": "d4b1590c-9cbe-462e-979f-9984919242cc",
   "metadata": {},
   "outputs": [
    {
     "data": {
      "text/plain": [
       "<AxesSubplot:xlabel='Result', ylabel='Count'>"
      ]
     },
     "execution_count": 70,
     "metadata": {},
     "output_type": "execute_result"
    }
   ],
   "source": [
    "sns.boxplot(df['Result'])"
   ]
  },
  {
   "cell_type": "code",
   "execution_count": 71,
   "id": "ecf7277c-bcb4-49c4-8712-0e6f3f7cb4ba",
   "metadata": {},
   "outputs": [
    {
     "data": {
      "text/plain": [
       "<AxesSubplot:>"
      ]
     },
     "execution_count": 71,
     "metadata": {},
     "output_type": "execute_result"
    }
   ],
   "source": [
    "sns.heatmap(df.corr(),annot=True)"
   ]
  },
  {
   "cell_type": "code",
   "execution_count": 72,
   "id": "9354f594-3914-44cf-8ebd-85ab9bd69b8f",
   "metadata": {},
   "outputs": [],
   "source": [
    "x = (df[[\"Phone screen time\", \"stdy hr\", \"Ref Paper\"]])\n",
    "y = df[\"Result\"]"
   ]
  },
  {
   "cell_type": "code",
   "execution_count": 73,
   "id": "389193e4-fcf7-4bd6-bed2-41b6242e318d",
   "metadata": {},
   "outputs": [],
   "source": [
    "from sklearn.model_selection import train_test_split\n",
    "x_train, x_test, y_train, y_test = train_test_split(x,y, test_size=.25) "
   ]
  },
  {
   "cell_type": "code",
   "execution_count": 74,
   "id": "d074ee12-9ebc-4acf-b1c4-5499af8bc490",
   "metadata": {},
   "outputs": [
    {
     "data": {
      "text/plain": [
       "10"
      ]
     },
     "execution_count": 74,
     "metadata": {},
     "output_type": "execute_result"
    }
   ],
   "source": [
    "len(x_train)"
   ]
  },
  {
   "cell_type": "code",
   "execution_count": 75,
   "id": "7e08f829-5b17-452e-891d-9aacd39fc637",
   "metadata": {},
   "outputs": [
    {
     "data": {
      "text/plain": [
       "4"
      ]
     },
     "execution_count": 75,
     "metadata": {},
     "output_type": "execute_result"
    }
   ],
   "source": [
    "len(x_test)"
   ]
  },
  {
   "cell_type": "code",
   "execution_count": 76,
   "id": "4d982a06-b47a-4634-b766-0feb71f19b1c",
   "metadata": {},
   "outputs": [
    {
     "data": {
      "text/plain": [
       "(10, 3)"
      ]
     },
     "execution_count": 76,
     "metadata": {},
     "output_type": "execute_result"
    }
   ],
   "source": [
    "x_train.shape"
   ]
  },
  {
   "cell_type": "code",
   "execution_count": 77,
   "id": "1f52e10d-142b-406d-8162-f2b0084546d1",
   "metadata": {},
   "outputs": [
    {
     "data": {
      "text/plain": [
       "(10,)"
      ]
     },
     "execution_count": 77,
     "metadata": {},
     "output_type": "execute_result"
    }
   ],
   "source": [
    "y_train.shape"
   ]
  },
  {
   "cell_type": "code",
   "execution_count": 78,
   "id": "3043e4b1-255b-4438-92dc-5e237bb4e1b2",
   "metadata": {},
   "outputs": [
    {
     "data": {
      "text/plain": [
       "(4, 3)"
      ]
     },
     "execution_count": 78,
     "metadata": {},
     "output_type": "execute_result"
    }
   ],
   "source": [
    "x_test.shape"
   ]
  },
  {
   "cell_type": "code",
   "execution_count": 79,
   "id": "e59fb6eb-65a0-43f9-be7c-1c7540ec866f",
   "metadata": {},
   "outputs": [
    {
     "data": {
      "text/plain": [
       "(4,)"
      ]
     },
     "execution_count": 79,
     "metadata": {},
     "output_type": "execute_result"
    }
   ],
   "source": [
    "y_test.shape"
   ]
  },
  {
   "cell_type": "code",
   "execution_count": 80,
   "id": "06ee44af-aeda-4c43-a6f2-3048ffa7c2e0",
   "metadata": {},
   "outputs": [],
   "source": [
    "from sklearn.linear_model import LinearRegression"
   ]
  },
  {
   "cell_type": "code",
   "execution_count": 81,
   "id": "dd9ff37d-d3b5-4229-948f-7a2817dcd74f",
   "metadata": {},
   "outputs": [
    {
     "data": {
      "text/plain": [
       "LinearRegression()"
      ]
     },
     "execution_count": 81,
     "metadata": {},
     "output_type": "execute_result"
    }
   ],
   "source": [
    "lr = LinearRegression()\n",
    "lr.fit(x_train, y_train)"
   ]
  },
  {
   "cell_type": "code",
   "execution_count": 82,
   "id": "527e918e-4be4-4045-b5bc-643d04a0c572",
   "metadata": {},
   "outputs": [],
   "source": [
    "yhat = lr.predict(x_test)"
   ]
  },
  {
   "cell_type": "code",
   "execution_count": 83,
   "id": "c184c8d5-ce05-4d40-b73d-5b6f3ce4eaec",
   "metadata": {},
   "outputs": [
    {
     "name": "stdout",
     "output_type": "stream",
     "text": [
      "[10.86519168  2.94161019  7.19281957  8.40591377]\n"
     ]
    }
   ],
   "source": [
    "print(yhat)"
   ]
  },
  {
   "cell_type": "code",
   "execution_count": 84,
   "id": "298a990a-4a62-4555-9fea-2b5bc6d1b3d8",
   "metadata": {},
   "outputs": [
    {
     "name": "stdout",
     "output_type": "stream",
     "text": [
      "2    9.0\n",
      "7    5.1\n",
      "6    7.1\n",
      "5    6.2\n",
      "Name: Result, dtype: float64\n"
     ]
    }
   ],
   "source": [
    "print(y_test)"
   ]
  },
  {
   "cell_type": "code",
   "execution_count": 119,
   "id": "acfff46d-e93f-49d6-b2a4-856c191c5e2f",
   "metadata": {},
   "outputs": [
    {
     "data": {
      "text/plain": [
       "-0.5926875891660164"
      ]
     },
     "execution_count": 119,
     "metadata": {},
     "output_type": "execute_result"
    }
   ],
   "source": [
    "lr.score(x_test, y_test)"
   ]
  },
  {
   "cell_type": "code",
   "execution_count": null,
   "id": "6dac7f68-e3d2-4942-a71b-7648c5d6167e",
   "metadata": {},
   "outputs": [],
   "source": []
  },
  {
   "cell_type": "code",
   "execution_count": 121,
   "id": "a1ada1cf-1ec0-4dee-a54c-5a82cefe27a4",
   "metadata": {},
   "outputs": [],
   "source": [
    "from sklearn.linear_model import Ridge"
   ]
  },
  {
   "cell_type": "code",
   "execution_count": 145,
   "id": "8aaf0ccb-dd59-4bfd-b636-474ec99589e3",
   "metadata": {},
   "outputs": [],
   "source": [
    "ridge = Ridge(alpha=0.5, normalize=True).fit(x,y)"
   ]
  },
  {
   "cell_type": "code",
   "execution_count": 143,
   "id": "960987da-3314-4493-b730-e27a22e66865",
   "metadata": {},
   "outputs": [
    {
     "data": {
      "text/plain": [
       "0.8226792906719301"
      ]
     },
     "execution_count": 143,
     "metadata": {},
     "output_type": "execute_result"
    }
   ],
   "source": [
    "ridge.score(x_test, y_test)"
   ]
  },
  {
   "cell_type": "code",
   "execution_count": 144,
   "id": "e713d6d6-4fbe-42b5-b5a6-051a219f1ac4",
   "metadata": {},
   "outputs": [
    {
     "data": {
      "text/plain": [
       "array([9.22667894])"
      ]
     },
     "execution_count": 144,
     "metadata": {},
     "output_type": "execute_result"
    }
   ],
   "source": [
    "Phone_screen_time = 3 \n",
    "stdy_hr = 4\n",
    "Ref_Paper = 6\n",
    "yhat = lr.predict([[Phone_screen_time, stdy_hr, Ref_Paper]])\n",
    "yhat"
   ]
  },
  {
   "cell_type": "code",
   "execution_count": null,
   "id": "7c18693c-64a3-469f-acff-e2f86abc669d",
   "metadata": {},
   "outputs": [],
   "source": []
  }
 ],
 "metadata": {
  "kernelspec": {
   "display_name": "Python 3 (ipykernel)",
   "language": "python",
   "name": "python3"
  },
  "language_info": {
   "codemirror_mode": {
    "name": "ipython",
    "version": 3
   },
   "file_extension": ".py",
   "mimetype": "text/x-python",
   "name": "python",
   "nbconvert_exporter": "python",
   "pygments_lexer": "ipython3",
   "version": "3.11.7"
  }
 },
 "nbformat": 4,
 "nbformat_minor": 5
}
