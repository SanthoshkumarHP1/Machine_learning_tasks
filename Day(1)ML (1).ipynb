{
 "cells": [
  {
   "cell_type": "code",
   "execution_count": null,
   "id": "5988a5a7-45da-4993-b98c-a2b67deda531",
   "metadata": {},
   "outputs": [],
   "source": [
    "Task1:-\n",
    "=======\n",
    "Given:-\n",
    "--------\n",
    "name   dept  \n",
    "ravi   sales\n",
    "manu   purch\n",
    "hari   accts\n",
    "\n",
    "Expected:-\n",
    "==========\n",
    "name  sales  purch  accts\n",
    "ravi    1     0     0\n",
    "manu    0     1     0\n",
    "hari    0     0     1\n",
    "\n",
    "Expected:-\n",
    "===========\n",
    "name dept\n",
    "ravi 1\n",
    "manu 2\n",
    "hari 3\n",
    "\n",
    "Expected:-\n",
    "==========\n",
    "\n",
    "name dept\n",
    "ravi 0.1\n",
    "manu 0.2\n",
    "hari 0.3\n"
   ]
  },
  {
   "cell_type": "code",
   "execution_count": 2,
   "id": "b9326d8b-ac66-4f21-92d2-c45b811a9161",
   "metadata": {},
   "outputs": [
    {
     "name": "stdout",
     "output_type": "stream",
     "text": [
      "{'name': ['ravi', 'manu', 'hari'], 'dept': ['Sales', 'purch', 'accts']}\n"
     ]
    },
    {
     "ename": "NameError",
     "evalue": "name 'a' is not defined",
     "output_type": "error",
     "traceback": [
      "\u001b[1;31m---------------------------------------------------------------------------\u001b[0m",
      "\u001b[1;31mNameError\u001b[0m                                 Traceback (most recent call last)",
      "Cell \u001b[1;32mIn[2], line 6\u001b[0m\n\u001b[0;32m      1\u001b[0m \u001b[38;5;28mdict\u001b[39m \u001b[38;5;241m=\u001b[39m {\n\u001b[0;32m      2\u001b[0m      \u001b[38;5;124m\"\u001b[39m\u001b[38;5;124mname\u001b[39m\u001b[38;5;124m\"\u001b[39m: [\u001b[38;5;124m\"\u001b[39m\u001b[38;5;124mravi\u001b[39m\u001b[38;5;124m\"\u001b[39m, \u001b[38;5;124m\"\u001b[39m\u001b[38;5;124mmanu\u001b[39m\u001b[38;5;124m\"\u001b[39m, \u001b[38;5;124m\"\u001b[39m\u001b[38;5;124mhari\u001b[39m\u001b[38;5;124m\"\u001b[39m],\n\u001b[0;32m      3\u001b[0m      \u001b[38;5;124m\"\u001b[39m\u001b[38;5;124mdept\u001b[39m\u001b[38;5;124m\"\u001b[39m: [\u001b[38;5;124m\"\u001b[39m\u001b[38;5;124mSales\u001b[39m\u001b[38;5;124m\"\u001b[39m, \u001b[38;5;124m\"\u001b[39m\u001b[38;5;124mpurch\u001b[39m\u001b[38;5;124m\"\u001b[39m, \u001b[38;5;124m\"\u001b[39m\u001b[38;5;124maccts\u001b[39m\u001b[38;5;124m\"\u001b[39m]\n\u001b[0;32m      4\u001b[0m }\n\u001b[0;32m      5\u001b[0m \u001b[38;5;28mprint\u001b[39m(\u001b[38;5;28mdict\u001b[39m)\n\u001b[1;32m----> 6\u001b[0m \u001b[38;5;28mdict\u001b[39m \u001b[38;5;241m=\u001b[39m \u001b[38;5;28mdict\u001b[39m(\u001b[38;5;28mzip\u001b[39m(a\u001b[38;5;241m.\u001b[39mvalues(), a\u001b[38;5;241m.\u001b[39mkeys()))\n",
      "\u001b[1;31mNameError\u001b[0m: name 'a' is not defined"
     ]
    }
   ],
   "source": [
    "dict = {\n",
    "     \"name\": [\"ravi\", \"manu\", \"hari\"],\n",
    "     \"dept\": [\"Sales\", \"purch\", \"accts\"]\n",
    "}\n",
    "print(dict)\n",
    "dict = dict(zip(a.values(), a.keys()))"
   ]
  },
  {
   "cell_type": "code",
   "execution_count": 3,
   "id": "6b1a2303-45ff-4d98-a3b0-5479f0126a4c",
   "metadata": {},
   "outputs": [
    {
     "name": "stdout",
     "output_type": "stream",
     "text": [
      "<class 'set'>\n"
     ]
    }
   ],
   "source": [
    "res = set()\n",
    "print(type(res))"
   ]
  },
  {
   "cell_type": "code",
   "execution_count": null,
   "id": "da5e8a1a-04a1-4cdb-97a8-9ec420906a90",
   "metadata": {},
   "outputs": [],
   "source": [
    "Task2:-\n",
    "========\n",
    "convert \"name\" column to upper case\n",
    "Given:-\n",
    "--------\n",
    "name    dept  \n",
    "ravi    sales\n",
    "manu    purch\n",
    "hari    accts\n",
    "ranjan  finan\n",
    "\n",
    "Expected:-\n",
    "----------\n",
    "name   dept  \n",
    "RavI   sales\n",
    "ManU   purch\n",
    "HarI   accts\n",
    "RanjaN finan\n"
   ]
  },
  {
   "cell_type": "code",
   "execution_count": 6,
   "id": "84843f98-2c01-4362-8783-4c5dc9cada1b",
   "metadata": {},
   "outputs": [
    {
     "name": "stdout",
     "output_type": "stream",
     "text": [
      "[('hari', 'accts'), ('ranjan', 'finan'), ('manu', 'purch'), ('ravi', 'sales')]\n"
     ]
    }
   ],
   "source": [
    "task2 = {\n",
    "    \"name\": [\"ravi\",\"manu\",\"hari\",\"ranjan\"],\n",
    "    \"dept\": [\"sales\",\"purch\",\"accts\",\"finan\"]\n",
    "}\n",
    "task = list(zip(task2[\"name\"], task2[\"dept\"]))\n",
    "#task = task2.split(\",\")\n",
    "task.sort(key = lambda x:x[1])\n",
    "print(task)"
   ]
  },
  {
   "cell_type": "code",
   "execution_count": 9,
   "id": "5622a953-d7d3-4356-94de-801026dca1d8",
   "metadata": {},
   "outputs": [
    {
     "name": "stdout",
     "output_type": "stream",
     "text": [
      "HarI\taccts\n",
      "RanjaN\tfinan\n",
      "ManU\tpurch\n",
      "RavI\tsales\n"
     ]
    }
   ],
   "source": [
    "task2 = {\n",
    "    \"name\": [\"RavI\", \"ManU\", \"HarI\", \"RanjaN\"],\n",
    "    \"dept\": [\"sales\", \"purch\", \"accts\", \"finan\"]\n",
    "}\n",
    "task = list(zip(task2[\"name\"], task2[\"dept\"]))\n",
    "task.sort(key=lambda x: x[1])\n",
    "sorted_names, sorted_depts = zip(*task)\n",
    "sorted_task2 = {\n",
    "    \"name\": list(sorted_names),\n",
    "    \"dept\": list(sorted_depts)\n",
    "}\n",
    "for name, dept in zip(sorted_task2[\"name\"], sorted_task2[\"dept\"]):\n",
    "    print(f\"{name}\\t{dept}\")"
   ]
  },
  {
   "cell_type": "code",
   "execution_count": null,
   "id": "00f65d3e-2a41-457f-8fd0-0ab0d0430c85",
   "metadata": {},
   "outputs": [],
   "source": []
  }
 ],
 "metadata": {
  "kernelspec": {
   "display_name": "Python 3 (ipykernel)",
   "language": "python",
   "name": "python3"
  },
  "language_info": {
   "codemirror_mode": {
    "name": "ipython",
    "version": 3
   },
   "file_extension": ".py",
   "mimetype": "text/x-python",
   "name": "python",
   "nbconvert_exporter": "python",
   "pygments_lexer": "ipython3",
   "version": "3.11.7"
  }
 },
 "nbformat": 4,
 "nbformat_minor": 5
}
